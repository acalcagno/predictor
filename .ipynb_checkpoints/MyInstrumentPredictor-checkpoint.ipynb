{
 "cells": [
  {
   "cell_type": "code",
   "execution_count": 8,
   "id": "f201f3d0",
   "metadata": {},
   "outputs": [
    {
     "name": "stdout",
     "output_type": "stream",
     "text": [
      "\u001b[39m\u001b[1mInstalling \u001b[32m\u001b[1mvoila\u001b[39m\u001b[22m...\u001b[39m\u001b[22m\n",
      "\u001b[K\u001b[39m\u001b[1mAdding\u001b[39m\u001b[22m \u001b[32m\u001b[1mvoila\u001b[39m\u001b[22m \u001b[39m\u001b[1mto Pipfile's\u001b[39m\u001b[22m \u001b[33m\u001b[1m[packages]\u001b[39m\u001b[22m\u001b[39m\u001b[1m...\u001b[39m\u001b[22m\n",
      "\u001b[K\u001b[?25h✔ Installation Succeeded\u001b[0m \n",
      "\u001b[33m\u001b[1mPipfile.lock (52dd97) out of date, updating to (5ff182)...\u001b[39m\u001b[22m\n",
      "\u001b[39m\u001b[22mLocking\u001b[39m\u001b[22m \u001b[33m\u001b[22m[dev-packages]\u001b[39m\u001b[22m \u001b[39m\u001b[22mdependencies...\u001b[39m\u001b[22m\n",
      "\u001b[39m\u001b[22mLocking\u001b[39m\u001b[22m \u001b[33m\u001b[22m[packages]\u001b[39m\u001b[22m \u001b[39m\u001b[22mdependencies...\u001b[39m\u001b[22m\n",
      "\u001b[KBuilding requirements...\n",
      "\u001b[KResolving dependencies...\n",
      "\u001b[K\u001b[?25h\u001b[31m\u001b[22m✘ Locking Failed!\u001b[39m\u001b[22m\u001b[0m \n",
      "[ResolutionFailure]:   File \"/home/agustin/.local/lib/python3.8/site-packages/pipenv/resolver.py\", line 741, in _main\n",
      "[ResolutionFailure]:       resolve_packages(pre, clear, verbose, system, write, requirements_dir, packages, dev)\n",
      "[ResolutionFailure]:   File \"/home/agustin/.local/lib/python3.8/site-packages/pipenv/resolver.py\", line 702, in resolve_packages\n",
      "[ResolutionFailure]:       results, resolver = resolve(\n",
      "[ResolutionFailure]:   File \"/home/agustin/.local/lib/python3.8/site-packages/pipenv/resolver.py\", line 684, in resolve\n",
      "[ResolutionFailure]:       return resolve_deps(\n",
      "[ResolutionFailure]:   File \"/home/agustin/.local/lib/python3.8/site-packages/pipenv/utils.py\", line 1397, in resolve_deps\n",
      "[ResolutionFailure]:       results, hashes, markers_lookup, resolver, skipped = actually_resolve_deps(\n",
      "[ResolutionFailure]:   File \"/home/agustin/.local/lib/python3.8/site-packages/pipenv/utils.py\", line 1110, in actually_resolve_deps\n",
      "[ResolutionFailure]:       resolver.resolve()\n",
      "[ResolutionFailure]:   File \"/home/agustin/.local/lib/python3.8/site-packages/pipenv/utils.py\", line 835, in resolve\n",
      "[ResolutionFailure]:       raise ResolutionFailure(message=str(e))\n",
      "[pipenv.exceptions.ResolutionFailure]: Warning: Your dependencies could not be resolved. You likely have a mismatch in your sub-dependencies.\n",
      "  First try clearing your dependency cache with $ pipenv lock --clear, then try the original command again.\n",
      " Alternatively, you can use $ pipenv install --skip-lock to bypass this mechanism, then run $ pipenv graph to inspect the situation.\n",
      "  Hint: try $ pipenv lock --pre if it is a pre-release dependency.\n",
      "ERROR: Could not find a version that matches nbconvert<6,<7,>=6.0.0 (from voila==0.2.10->-r /tmp/pipenvtmuwgetfrequirements/pipenv-o7knyq94-constraints.txt (line 5))\n",
      "Tried: 4.0.0, 4.0.0, 4.0.0, 4.1.0, 4.1.0, 4.1.0, 4.2.0, 4.2.0, 4.2.0, 4.3.0, 4.3.0, 5.0.0, 5.0.0, 5.1.0, 5.1.0, 5.1.1, 5.1.1, 5.2.1, 5.2.1, 5.3.0, 5.3.0, 5.3.1, 5.3.1, 5.4.0, 5.4.0, 5.4.1, 5.4.1, 5.5.0, 5.5.0, 5.6.0, 5.6.0, 5.6.1, 5.6.1, 6.0.0, 6.0.0, 6.0.1, 6.0.1, 6.0.2, 6.0.2, 6.0.3, 6.0.3, 6.0.4, 6.0.4, 6.0.5, 6.0.5, 6.0.6, 6.0.6, 6.0.7, 6.0.7, 6.1.0, 6.1.0\n",
      "Skipped pre-versions: 5.0.0b1, 5.0.0b1, 5.4.1.dev0, 5.4.1.dev0, 6.0.0a0, 6.0.0a0, 6.0.0a1, 6.0.0a1, 6.0.0a2, 6.0.0a2, 6.0.0a3, 6.0.0a3, 6.0.0a4, 6.0.0a4, 6.0.0a5, 6.0.0a5, 6.0.0a6, 6.0.0a6, 6.0.0b7, 6.0.0b7, 6.0.0rc0, 6.0.0rc0, 6.1.0rc0, 6.1.0rc0\n",
      "There are incompatible versions in the resolved dependencies:\n",
      "  nbconvert<6 (from nbdev==1.1.22->-r /tmp/pipenvtmuwgetfrequirements/pipenv-o7knyq94-constraints.txt (line 6))\n",
      "  nbconvert<7,>=6.0.0 (from voila==0.2.10->-r /tmp/pipenvtmuwgetfrequirements/pipenv-o7knyq94-constraints.txt (line 5))\n",
      "\n",
      "\u001b[0m\u001b[31mERROR: pip's dependency resolver does not currently take into account all the packages that are installed. This behaviour is the source of the following dependency conflicts.\n",
      "voila 0.2.10 requires nbconvert<7,>=6.0.0, but you have nbconvert 5.6.1 which is incompatible.\u001b[0m\n",
      "\u001b[39m\u001b[1mInstalling \u001b[32m\u001b[1mfastbook\u001b[39m\u001b[22m...\u001b[39m\u001b[22m\n",
      "\u001b[K\u001b[39m\u001b[1mAdding\u001b[39m\u001b[22m \u001b[32m\u001b[1mfastbook\u001b[39m\u001b[22m \u001b[39m\u001b[1mto Pipfile's\u001b[39m\u001b[22m \u001b[33m\u001b[1m[packages]\u001b[39m\u001b[22m\u001b[39m\u001b[1m...\u001b[39m\u001b[22m\n",
      "\u001b[K\u001b[?25h✔ Installation Succeeded\u001b[0m \n",
      "\u001b[33m\u001b[1mPipfile.lock (52dd97) out of date, updating to (5ff182)...\u001b[39m\u001b[22m\n",
      "\u001b[39m\u001b[22mLocking\u001b[39m\u001b[22m \u001b[33m\u001b[22m[dev-packages]\u001b[39m\u001b[22m \u001b[39m\u001b[22mdependencies...\u001b[39m\u001b[22m\n",
      "\u001b[39m\u001b[22mLocking\u001b[39m\u001b[22m \u001b[33m\u001b[22m[packages]\u001b[39m\u001b[22m \u001b[39m\u001b[22mdependencies...\u001b[39m\u001b[22m\n",
      "\u001b[K\u001b[KBuilding requirements...\n",
      "\u001b[KResolving dependencies...\n",
      "\u001b[K\u001b[?25h\u001b[31m\u001b[22m✘ Locking Failed!\u001b[39m\u001b[22m\u001b[0m \n",
      "[ResolutionFailure]:   File \"/home/agustin/.local/lib/python3.8/site-packages/pipenv/resolver.py\", line 741, in _main\n",
      "[ResolutionFailure]:       resolve_packages(pre, clear, verbose, system, write, requirements_dir, packages, dev)\n",
      "[ResolutionFailure]:   File \"/home/agustin/.local/lib/python3.8/site-packages/pipenv/resolver.py\", line 702, in resolve_packages\n",
      "[ResolutionFailure]:       results, resolver = resolve(\n",
      "[ResolutionFailure]:   File \"/home/agustin/.local/lib/python3.8/site-packages/pipenv/resolver.py\", line 684, in resolve\n",
      "[ResolutionFailure]:       return resolve_deps(\n",
      "[ResolutionFailure]:   File \"/home/agustin/.local/lib/python3.8/site-packages/pipenv/utils.py\", line 1397, in resolve_deps\n",
      "[ResolutionFailure]:       results, hashes, markers_lookup, resolver, skipped = actually_resolve_deps(\n",
      "[ResolutionFailure]:   File \"/home/agustin/.local/lib/python3.8/site-packages/pipenv/utils.py\", line 1110, in actually_resolve_deps\n",
      "[ResolutionFailure]:       resolver.resolve()\n",
      "[ResolutionFailure]:   File \"/home/agustin/.local/lib/python3.8/site-packages/pipenv/utils.py\", line 835, in resolve\n",
      "[ResolutionFailure]:       raise ResolutionFailure(message=str(e))\n",
      "[pipenv.exceptions.ResolutionFailure]: Warning: Your dependencies could not be resolved. You likely have a mismatch in your sub-dependencies.\n",
      "  First try clearing your dependency cache with $ pipenv lock --clear, then try the original command again.\n",
      " Alternatively, you can use $ pipenv install --skip-lock to bypass this mechanism, then run $ pipenv graph to inspect the situation.\n",
      "  Hint: try $ pipenv lock --pre if it is a pre-release dependency.\n",
      "ERROR: Could not find a version that matches nbconvert<6,<7,>=6.0.0 (from voila==0.2.10->-r /tmp/pipenv45r0v265requirements/pipenv-c30y2d9d-constraints.txt (line 8))\n",
      "Tried: 4.0.0, 4.0.0, 4.0.0, 4.1.0, 4.1.0, 4.1.0, 4.2.0, 4.2.0, 4.2.0, 4.3.0, 4.3.0, 5.0.0, 5.0.0, 5.1.0, 5.1.0, 5.1.1, 5.1.1, 5.2.1, 5.2.1, 5.3.0, 5.3.0, 5.3.1, 5.3.1, 5.4.0, 5.4.0, 5.4.1, 5.4.1, 5.5.0, 5.5.0, 5.6.0, 5.6.0, 5.6.1, 5.6.1, 6.0.0, 6.0.0, 6.0.1, 6.0.1, 6.0.2, 6.0.2, 6.0.3, 6.0.3, 6.0.4, 6.0.4, 6.0.5, 6.0.5, 6.0.6, 6.0.6, 6.0.7, 6.0.7, 6.1.0, 6.1.0\n",
      "Skipped pre-versions: 5.0.0b1, 5.0.0b1, 5.4.1.dev0, 5.4.1.dev0, 6.0.0a0, 6.0.0a0, 6.0.0a1, 6.0.0a1, 6.0.0a2, 6.0.0a2, 6.0.0a3, 6.0.0a3, 6.0.0a4, 6.0.0a4, 6.0.0a5, 6.0.0a5, 6.0.0a6, 6.0.0a6, 6.0.0b7, 6.0.0b7, 6.0.0rc0, 6.0.0rc0, 6.1.0rc0, 6.1.0rc0\n",
      "There are incompatible versions in the resolved dependencies:\n",
      "  nbconvert<6 (from nbdev==1.1.22->-r /tmp/pipenv45r0v265requirements/pipenv-c30y2d9d-constraints.txt (line 11))\n",
      "  nbconvert<7,>=6.0.0 (from voila==0.2.10->-r /tmp/pipenv45r0v265requirements/pipenv-c30y2d9d-constraints.txt (line 8))\n",
      "\n",
      "\u001b[0mEnabling: voila\n",
      "- Writing config: /home/agustin/.local/share/virtualenvs/instrumentPredictor-9wkRaNV0/etc/jupyter\n",
      "    - Validating...\n",
      "      voila 0.2.10 \u001b[32mOK\u001b[0m\n"
     ]
    }
   ],
   "source": [
    "#!poetry install voila\n",
    "#!poetry install -Uqq fastbook\n",
    "\n",
    "#!jupyter serverextension enable --sys-prefix voila"
   ]
  },
  {
   "cell_type": "code",
   "execution_count": 3,
   "id": "235f07de",
   "metadata": {},
   "outputs": [
    {
     "data": {
      "application/vnd.jupyter.widget-view+json": {
       "model_id": "a35ed21f4398421fa48a4cba2af0448b",
       "version_major": 2,
       "version_minor": 0
      },
      "text/plain": [
       "VBox(children=(Label(value='Select your instruent! (guitar, bass or banjo)'), FileUpload(value={}, description…"
      ]
     },
     "metadata": {},
     "output_type": "display_data"
    }
   ],
   "source": [
    "from fastbook import *\n",
    "from fastai.vision.widgets import *\n",
    "\n",
    "btn_upload = widgets.FileUpload()\n",
    "\n",
    "#hide_output\n",
    "out_pl = widgets.Output()\n",
    "out_pl.clear_output()\n",
    "\n",
    "\n",
    "path = Path()\n",
    "#path.ls(file_exts='.pkl')\n",
    "learn_inf = load_learner(path/'export.pkl')\n",
    "\n",
    "lbl_pred = widgets.Label()\n",
    "btn_run = widgets.Button(description='Classify')\n",
    "\n",
    "def on_click_classify(change):\n",
    "    img = PILImage.create(btn_upload.data[-1])\n",
    "    out_pl.clear_output()\n",
    "    with out_pl: display(img.to_thumb(128,128))\n",
    "    pred,pred_idx,probs = learn_inf.predict(img)\n",
    "    lbl_pred.value = f'Prediction: {pred}; Probability: {probs[pred_idx]:.04f}'\n",
    "\n",
    "btn_run.on_click(on_click_classify)\n",
    "btn_upload = widgets.FileUpload()\n",
    "VBox([widgets.Label('Select your instruent! (guitar, bass or banjo)'), \n",
    "      btn_upload, btn_run, out_pl, lbl_pred])"
   ]
  },
  {
   "cell_type": "code",
   "execution_count": null,
   "id": "74145c5b",
   "metadata": {},
   "outputs": [],
   "source": []
  }
 ],
 "metadata": {
  "kernelspec": {
   "display_name": "Python 3",
   "language": "python",
   "name": "python3"
  },
  "language_info": {
   "codemirror_mode": {
    "name": "ipython",
    "version": 3
   },
   "file_extension": ".py",
   "mimetype": "text/x-python",
   "name": "python",
   "nbconvert_exporter": "python",
   "pygments_lexer": "ipython3",
   "version": "3.8.10"
  }
 },
 "nbformat": 4,
 "nbformat_minor": 5
}
